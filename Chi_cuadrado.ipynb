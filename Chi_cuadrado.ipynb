{
  "nbformat": 4,
  "nbformat_minor": 0,
  "metadata": {
    "colab": {
      "provenance": [],
      "authorship_tag": "ABX9TyOVSgJt1sO/W2CjhFQvqOPL",
      "include_colab_link": true
    },
    "kernelspec": {
      "name": "python3",
      "display_name": "Python 3"
    },
    "language_info": {
      "name": "python"
    }
  },
  "cells": [
    {
      "cell_type": "markdown",
      "metadata": {
        "id": "view-in-github",
        "colab_type": "text"
      },
      "source": [
        "<a href=\"https://colab.research.google.com/github/mlacasa/AnalisisSeries/blob/main/Chi_cuadrado.ipynb\" target=\"_parent\"><img src=\"https://colab.research.google.com/assets/colab-badge.svg\" alt=\"Open In Colab\"/></a>"
      ]
    },
    {
      "cell_type": "code",
      "execution_count": 1,
      "metadata": {
        "id": "x55QjN_F32y7"
      },
      "outputs": [],
      "source": [
        "# Importamos las bibliotecas necesarias\n",
        "import pandas as pd\n",
        "import numpy as np\n",
        "from scipy.stats import chi2_contingency"
      ]
    },
    {
      "cell_type": "markdown",
      "source": [
        "Siguiendo el ejemplo del foro, creamos la tabla de contingencia"
      ],
      "metadata": {
        "id": "pSAJp8No3-v0"
      }
    },
    {
      "cell_type": "code",
      "source": [
        "# Definimos los datos en un diccionario\n",
        "data = {\n",
        "    'Cerveza': [30, 20],  # Frecuencias observadas para hombres y mujeres\n",
        "    'Vino': [10, 25],\n",
        "    'Agua': [15, 10]\n",
        "}\n",
        "\n",
        "# Creamos un DataFrame de pandas\n",
        "df = pd.DataFrame(data, index=['Hombre', 'Mujer'])\n",
        "\n",
        "# Mostramos la tabla de contingencia\n",
        "print(\"Tabla de Contingencia:\")\n",
        "print(df)"
      ],
      "metadata": {
        "colab": {
          "base_uri": "https://localhost:8080/"
        },
        "id": "gseVFe9x4CHk",
        "outputId": "b105a135-1b9a-4759-9e7e-7d07ff0d4f18"
      },
      "execution_count": 2,
      "outputs": [
        {
          "output_type": "stream",
          "name": "stdout",
          "text": [
            "Tabla de Contingencia:\n",
            "        Cerveza  Vino  Agua\n",
            "Hombre       30    10    15\n",
            "Mujer        20    25    10\n"
          ]
        }
      ]
    },
    {
      "cell_type": "markdown",
      "source": [
        "## Calcular el estadístico chi-cuadrado\n",
        "Usamos la función chi2_contingency de scipy.stats para calcular el estadístico chi-cuadrado y las frecuencias esperadas."
      ],
      "metadata": {
        "id": "2PQOmX-n4GnH"
      }
    },
    {
      "cell_type": "code",
      "source": [
        "# Calculamos el chi-cuadrado, el valor p, los grados de libertad y las frecuencias esperadas\n",
        "chi2, p, dof, expected = chi2_contingency(df)\n",
        "\n",
        "# Mostramos los resultados\n",
        "print(\"\\nResultados del Chi-Cuadrado:\")\n",
        "print(f\"Estadístico Chi-Cuadrado: {chi2:.4f}\")\n",
        "print(f\"Valor p: {p:.4f}\")\n",
        "print(f\"Grados de libertad: {dof}\")\n",
        "print(\"Frecuencias esperadas:\")\n",
        "print(pd.DataFrame(expected, index=df.index, columns=df.columns))"
      ],
      "metadata": {
        "colab": {
          "base_uri": "https://localhost:8080/"
        },
        "id": "JzNU7i_-4KvH",
        "outputId": "15d01e23-a10f-4a9a-c396-725c8a41728c"
      },
      "execution_count": 3,
      "outputs": [
        {
          "output_type": "stream",
          "name": "stdout",
          "text": [
            "\n",
            "Resultados del Chi-Cuadrado:\n",
            "Estadístico Chi-Cuadrado: 9.4286\n",
            "Valor p: 0.0090\n",
            "Grados de libertad: 2\n",
            "Frecuencias esperadas:\n",
            "        Cerveza  Vino  Agua\n",
            "Hombre     25.0  17.5  12.5\n",
            "Mujer      25.0  17.5  12.5\n"
          ]
        }
      ]
    },
    {
      "cell_type": "markdown",
      "source": [
        "Vamos a detallar lo que nos ofrece la función \"chi2_contingency()\"\n",
        "\n",
        "Entre paréntesis colocamos la tabla de contingencia que hemos preparado."
      ],
      "metadata": {
        "id": "zpyoyDq74O8j"
      }
    },
    {
      "cell_type": "code",
      "source": [
        "chi2_contingency(df)"
      ],
      "metadata": {
        "colab": {
          "base_uri": "https://localhost:8080/"
        },
        "id": "2PclNSIa4Y__",
        "outputId": "6fad182e-00fe-49fc-890e-9f386f1f6523"
      },
      "execution_count": 4,
      "outputs": [
        {
          "output_type": "execute_result",
          "data": {
            "text/plain": [
              "Chi2ContingencyResult(statistic=9.428571428571429, pvalue=0.008966268257436802, dof=2, expected_freq=array([[25. , 17.5, 12.5],\n",
              "       [25. , 17.5, 12.5]]))"
            ]
          },
          "metadata": {},
          "execution_count": 4
        }
      ]
    },
    {
      "cell_type": "markdown",
      "source": [
        "Para entenderlo bien, vamos al manual, aquí\n",
        "\n",
        "https://docs.scipy.org/doc/scipy/reference/generated/scipy.stats.chi2_contingency.html\n",
        "\n"
      ],
      "metadata": {
        "id": "flmF038j4fCP"
      }
    },
    {
      "cell_type": "code",
      "source": [
        "# Podemos pedir sólo el p-value\n",
        "resultado = chi2_contingency(df)\n",
        "# Del resultado, muestra el p-value\n",
        "resultado.pvalue"
      ],
      "metadata": {
        "colab": {
          "base_uri": "https://localhost:8080/"
        },
        "id": "_xAXuoWZ4wNs",
        "outputId": "55b2a3cd-bcaf-4d47-e5d1-3bc3a0b50920"
      },
      "execution_count": 5,
      "outputs": [
        {
          "output_type": "execute_result",
          "data": {
            "text/plain": [
              "0.008966268257436802"
            ]
          },
          "metadata": {},
          "execution_count": 5
        }
      ]
    },
    {
      "cell_type": "code",
      "source": [
        "# El resultado es menor a 0.05?\n",
        "resultado.pvalue<0.05"
      ],
      "metadata": {
        "colab": {
          "base_uri": "https://localhost:8080/"
        },
        "id": "2HDWEjU249n8",
        "outputId": "5f8941ab-4d94-4e8b-fb7d-752211e2d1c2"
      },
      "execution_count": 6,
      "outputs": [
        {
          "output_type": "execute_result",
          "data": {
            "text/plain": [
              "True"
            ]
          },
          "metadata": {},
          "execution_count": 6
        }
      ]
    },
    {
      "cell_type": "code",
      "source": [
        "# Cuál es la precuencia esperada?\n",
        "resultado.expected_freq"
      ],
      "metadata": {
        "colab": {
          "base_uri": "https://localhost:8080/"
        },
        "id": "WClhKs6L5E-b",
        "outputId": "174ef85f-10b0-4f75-ebd5-558be90062ae"
      },
      "execution_count": 7,
      "outputs": [
        {
          "output_type": "execute_result",
          "data": {
            "text/plain": [
              "array([[25. , 17.5, 12.5],\n",
              "       [25. , 17.5, 12.5]])"
            ]
          },
          "metadata": {},
          "execution_count": 7
        }
      ]
    },
    {
      "cell_type": "code",
      "source": [
        "# Mostramos los resultados\n",
        "print(\"\\nResultados del Chi-Cuadrado:\")\n",
        "print(f\"Estadístico Chi-Cuadrado: {chi2:.4f}\")\n",
        "print(f\"Valor p: {p:.4f}\")\n",
        "print(f\"Grados de libertad: {dof}\")\n",
        "print(\"Frecuencias esperadas:\")\n",
        "print(pd.DataFrame(expected, index=df.index, columns=df.columns))"
      ],
      "metadata": {
        "colab": {
          "base_uri": "https://localhost:8080/"
        },
        "id": "CqJIalKx5PCD",
        "outputId": "e341b6c8-817b-4f9f-8d16-2c44e43fc437"
      },
      "execution_count": 8,
      "outputs": [
        {
          "output_type": "stream",
          "name": "stdout",
          "text": [
            "\n",
            "Resultados del Chi-Cuadrado:\n",
            "Estadístico Chi-Cuadrado: 9.4286\n",
            "Valor p: 0.0090\n",
            "Grados de libertad: 2\n",
            "Frecuencias esperadas:\n",
            "        Cerveza  Vino  Agua\n",
            "Hombre     25.0  17.5  12.5\n",
            "Mujer      25.0  17.5  12.5\n"
          ]
        }
      ]
    },
    {
      "cell_type": "code",
      "source": [
        "# Nivel de significancia\n",
        "alpha = 0.05\n",
        "\n",
        "# Comparar el valor p con el nivel de significancia\n",
        "if p < alpha:\n",
        "    print(\"\\nEl resultado es significativo: Rechazamos la hipótesis nula.\")\n",
        "else:\n",
        "    print(\"\\nEl resultado no es significativo: No rechazamos la hipótesis nula.\")"
      ],
      "metadata": {
        "colab": {
          "base_uri": "https://localhost:8080/"
        },
        "id": "qeI-GnIe5WWA",
        "outputId": "b4674a6b-693e-44fe-dd2d-ac8fb39212ef"
      },
      "execution_count": 9,
      "outputs": [
        {
          "output_type": "stream",
          "name": "stdout",
          "text": [
            "\n",
            "El resultado es significativo: Rechazamos la hipótesis nula.\n"
          ]
        }
      ]
    },
    {
      "cell_type": "markdown",
      "source": [
        "# Conclusiones\n",
        "\n",
        "El sexo es determinante para predecir el consumo de cerveza, vino o agua en esta muestra."
      ],
      "metadata": {
        "id": "sVZBU3qb5byw"
      }
    }
  ]
}